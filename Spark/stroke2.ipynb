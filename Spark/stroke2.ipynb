{
 "cells": [
  {
   "cell_type": "markdown",
   "metadata": {},
   "source": [
    "# Построение классфикационной модели с помощью Spark MLlib"
   ]
  },
  {
   "cell_type": "markdown",
   "metadata": {},
   "source": [
    "### План:\n",
    "- Подготовка данных\n",
    "- Построение Пайплайна и обучение\n",
    "- Оценка\n",
    "- Сохранение PMML"
   ]
  },
  {
   "cell_type": "code",
   "execution_count": 1,
   "metadata": {},
   "outputs": [],
   "source": [
    "from pyspark.sql import SQLContext\n",
    "from pyspark.sql import DataFrameNaFunctions\n",
    "from pyspark.ml import Pipeline\n",
    "from pyspark.ml.classification import DecisionTreeClassifier\n",
    "from pyspark.ml.classification import LogisticRegression\n",
    "from pyspark.ml.feature import Binarizer\n",
    "from pyspark.ml.feature import OneHotEncoder, VectorAssembler, StringIndexer, VectorIndexer\n",
    "from pyspark.ml.classification import RandomForestClassifier\n",
    "from pyspark.sql.functions import avg\n",
    "import pandas as pd\n",
    "import numpy as np\n",
    "import matplotlib.pyplot as plt\n",
    "%matplotlib inline\n",
    "from pyspark.ml.evaluation import MulticlassClassificationEvaluator\n",
    "from pyspark.mllib.evaluation import MulticlassMetrics\n",
    "from pyspark.ml.evaluation import BinaryClassificationEvaluator\n",
    "from imblearn.over_sampling import SMOTE\n",
    "from imblearn.combine import SMOTEENN\n",
    "from sklearn.model_selection import train_test_split\n",
    "from collections import Counter\n",
    "\n",
    "from functools import reduce  # For Python 3.x\n",
    "from pyspark.sql import DataFrame\n",
    "from pyspark.sql.functions import *"
   ]
  },
  {
   "cell_type": "code",
   "execution_count": 2,
   "metadata": {},
   "outputs": [],
   "source": [
    "from pyspark.context import SparkContext\n",
    "from pyspark.sql.session import SparkSession\n",
    "#sc = SparkContext('local')\n",
    "spark = SparkSession(sc)"
   ]
  },
  {
   "cell_type": "markdown",
   "metadata": {},
   "source": [
    "## Подготовка данных"
   ]
  },
  {
   "cell_type": "code",
   "execution_count": 3,
   "metadata": {},
   "outputs": [
    {
     "data": {
      "text/plain": [
       "['gender',\n",
       " 'age',\n",
       " 'diabetes',\n",
       " 'hypertension',\n",
       " 'stroke',\n",
       " 'heart disease',\n",
       " 'smoking history',\n",
       " 'BMI']"
      ]
     },
     "execution_count": 3,
     "metadata": {},
     "output_type": "execute_result"
    }
   ],
   "source": [
    "df = spark.read.format('com.databricks.spark.csv').options(header='true', inferschema='true').load('BigML.csv')\n",
    "df.columns"
   ]
  },
  {
   "cell_type": "code",
   "execution_count": 4,
   "metadata": {},
   "outputs": [
    {
     "data": {
      "text/html": [
       "<div>\n",
       "<style scoped>\n",
       "    .dataframe tbody tr th:only-of-type {\n",
       "        vertical-align: middle;\n",
       "    }\n",
       "\n",
       "    .dataframe tbody tr th {\n",
       "        vertical-align: top;\n",
       "    }\n",
       "\n",
       "    .dataframe thead th {\n",
       "        text-align: right;\n",
       "    }\n",
       "</style>\n",
       "<table border=\"1\" class=\"dataframe\">\n",
       "  <thead>\n",
       "    <tr style=\"text-align: right;\">\n",
       "      <th></th>\n",
       "      <th>gender</th>\n",
       "      <th>age</th>\n",
       "      <th>diabetes</th>\n",
       "      <th>hypertension</th>\n",
       "      <th>stroke</th>\n",
       "      <th>heart disease</th>\n",
       "      <th>smoking history</th>\n",
       "      <th>BMI</th>\n",
       "    </tr>\n",
       "  </thead>\n",
       "  <tbody>\n",
       "    <tr>\n",
       "      <th>0</th>\n",
       "      <td>Female</td>\n",
       "      <td>80.0</td>\n",
       "      <td>0</td>\n",
       "      <td>0</td>\n",
       "      <td>0</td>\n",
       "      <td>1</td>\n",
       "      <td>never</td>\n",
       "      <td>25.19</td>\n",
       "    </tr>\n",
       "    <tr>\n",
       "      <th>1</th>\n",
       "      <td>Female</td>\n",
       "      <td>54.0</td>\n",
       "      <td>0</td>\n",
       "      <td>0</td>\n",
       "      <td>0</td>\n",
       "      <td>0</td>\n",
       "      <td>None</td>\n",
       "      <td>NaN</td>\n",
       "    </tr>\n",
       "    <tr>\n",
       "      <th>2</th>\n",
       "      <td>Male</td>\n",
       "      <td>28.0</td>\n",
       "      <td>0</td>\n",
       "      <td>0</td>\n",
       "      <td>0</td>\n",
       "      <td>0</td>\n",
       "      <td>never</td>\n",
       "      <td>NaN</td>\n",
       "    </tr>\n",
       "    <tr>\n",
       "      <th>3</th>\n",
       "      <td>Female</td>\n",
       "      <td>36.0</td>\n",
       "      <td>0</td>\n",
       "      <td>0</td>\n",
       "      <td>0</td>\n",
       "      <td>0</td>\n",
       "      <td>current</td>\n",
       "      <td>23.45</td>\n",
       "    </tr>\n",
       "    <tr>\n",
       "      <th>4</th>\n",
       "      <td>Male</td>\n",
       "      <td>76.0</td>\n",
       "      <td>0</td>\n",
       "      <td>1</td>\n",
       "      <td>0</td>\n",
       "      <td>1</td>\n",
       "      <td>current</td>\n",
       "      <td>20.14</td>\n",
       "    </tr>\n",
       "  </tbody>\n",
       "</table>\n",
       "</div>"
      ],
      "text/plain": [
       "   gender   age  diabetes  hypertension  stroke  heart disease  \\\n",
       "0  Female  80.0         0             0       0              1   \n",
       "1  Female  54.0         0             0       0              0   \n",
       "2    Male  28.0         0             0       0              0   \n",
       "3  Female  36.0         0             0       0              0   \n",
       "4    Male  76.0         0             1       0              1   \n",
       "\n",
       "  smoking history    BMI  \n",
       "0           never  25.19  \n",
       "1            None    NaN  \n",
       "2           never    NaN  \n",
       "3         current  23.45  \n",
       "4         current  20.14  "
      ]
     },
     "execution_count": 4,
     "metadata": {},
     "output_type": "execute_result"
    }
   ],
   "source": [
    "pd.DataFrame(df.take(5), columns=df.columns)"
   ]
  },
  {
   "cell_type": "code",
   "execution_count": 5,
   "metadata": {},
   "outputs": [
    {
     "name": "stdout",
     "output_type": "stream",
     "text": [
      "root\n",
      " |-- gender: string (nullable = true)\n",
      " |-- age: double (nullable = true)\n",
      " |-- diabetes: integer (nullable = true)\n",
      " |-- hypertension: integer (nullable = true)\n",
      " |-- stroke: integer (nullable = true)\n",
      " |-- heart disease: integer (nullable = true)\n",
      " |-- smoking history: string (nullable = true)\n",
      " |-- BMI: double (nullable = true)\n",
      "\n"
     ]
    }
   ],
   "source": [
    "df.printSchema()"
   ]
  },
  {
   "cell_type": "code",
   "execution_count": 6,
   "metadata": {},
   "outputs": [
    {
     "data": {
      "text/plain": [
       "96713"
      ]
     },
     "execution_count": 6,
     "metadata": {},
     "output_type": "execute_result"
    }
   ],
   "source": [
    "df = df.filter(df.age >2)\n",
    "df.count()"
   ]
  },
  {
   "cell_type": "markdown",
   "metadata": {},
   "source": [
    "Заполняем пустые значения:"
   ]
  },
  {
   "cell_type": "code",
   "execution_count": 7,
   "metadata": {},
   "outputs": [],
   "source": [
    "def unionAll(*dfs):\n",
    "    return reduce(DataFrame.union, dfs)\n",
    "\n",
    "df = unionAll(\n",
    "    df.filter((\"age >=2 and age <= 9\")).fillna({'smoking history': 0, 'BMI': 17.125}), \n",
    "    df.filter(('age >=10 and age <= 13')).fillna({'smoking history': 0, 'BMI':19.5}), \n",
    "    df.filter(('age >=14 and age <= 17')).fillna({'smoking history': 0, 'BMI':23.05}), \n",
    "    df.filter(('age >=18 and age <= 24')).fillna({'smoking history': 0, 'BMI':27.1}), \n",
    "    df.filter(('age >=25 and age <= 29')).fillna({'smoking history': 0, 'BMI':27.9}), \n",
    "    df.filter(('age >=30 and age <= 34')).fillna({'smoking history': 0.25, 'BMI':29.6}), \n",
    "    df.filter(('age >=35 and age <= 44')).fillna({'smoking history': 0.25, 'BMI':30.15}), \n",
    "    df.filter(('age >=45 and age <= 49')).fillna({'smoking history': 0, 'BMI':29.7}), \n",
    "    df.filter(('age >=50 and age <= 59')).fillna({'smoking history': 0, 'BMI':29.95}), \n",
    "    df.filter(('age >=60 and age <= 74')).fillna({'smoking history': 0, 'BMI':30.1}), \n",
    "    df.filter(('age > 75')).fillna({'smoking history': 0, 'BMI':28.1}))"
   ]
  },
  {
   "cell_type": "markdown",
   "metadata": {},
   "source": [
    "Заменяем текстовые значения в столбце smoking history вещественными числами:"
   ]
  },
  {
   "cell_type": "code",
   "execution_count": 8,
   "metadata": {},
   "outputs": [],
   "source": [
    "df = df.withColumn('gender', when(col('gender') == 'Male', 1).when(col('gender') == 'Female', 0)).na.drop(subset=[\"gender\"])\\\n",
    "            .withColumn('smoking history', when(col('smoking history') == 'former', 0.75)\n",
    "                        .when(col('smoking history') == 'never', 0)\n",
    "                        .when(col('smoking history') == 'ever', 0.25)\n",
    "                        .when(col('smoking history') == 'current', 1)\n",
    "                        .when(col('smoking history') == 'not current', 0.5)\n",
    "                        .otherwise(col('smoking history')))"
   ]
  },
  {
   "cell_type": "code",
   "execution_count": 9,
   "metadata": {},
   "outputs": [
    {
     "data": {
      "text/plain": [
       "([<matplotlib.axis.XTick at 0x7f8113fe6240>,\n",
       "  <matplotlib.axis.XTick at 0x7f81140e5a58>],\n",
       " <a list of 2 Text xticklabel objects>)"
      ]
     },
     "execution_count": 9,
     "metadata": {},
     "output_type": "execute_result"
    },
    {
     "data": {
      "image/png": "[encoded data removed]",
      "text/plain": [
       "<Figure size 432x288 with 1 Axes>"
      ]
     },
     "metadata": {
      "needs_background": "light"
     },
     "output_type": "display_data"
    }
   ],
   "source": [
    "responses = df.groupBy('stroke').count().collect()\n",
    "categories = [i[0] for i in responses]\n",
    "counts = [i[1] for i in responses]\n",
    "\n",
    "ind = np.array(range(len(categories)))\n",
    "width = 0.35\n",
    "plt.bar(ind, counts, width=width, color='r')\n",
    "\n",
    "plt.ylabel('counts')\n",
    "plt.title('Stroke')\n",
    "plt.xticks(ind + width/2., categories)"
   ]
  },
  {
   "cell_type": "markdown",
   "metadata": {},
   "source": [
    "Классы не сбалансированны, что видно по графику выше. Проводим ребалансировку:"
   ]
  },
  {
   "cell_type": "code",
   "execution_count": 10,
   "metadata": {},
   "outputs": [
    {
     "name": "stdout",
     "output_type": "stream",
     "text": [
      "Resampled dataset shape Counter({'stroke': 1})\n"
     ]
    }
   ],
   "source": [
    "sm = SMOTE(random_state=12, sampling_strategy = 'auto', n_jobs = 4)\n",
    "\n",
    "X = df.select('gender', 'age', 'diabetes', 'hypertension', 'heart disease', 'smoking history', 'BMI').toPandas()\n",
    "Y = df.select('stroke').toPandas()\n",
    "\n",
    "x_res, y_res = sm.fit_sample(X, Y)\n",
    "print('Resampled dataset shape {}'.format(Counter(y_res)))"
   ]
  },
  {
   "cell_type": "markdown",
   "metadata": {},
   "source": [
    "Разделение на тренировочную и тестовую выбору:"
   ]
  },
  {
   "cell_type": "code",
   "execution_count": 11,
   "metadata": {},
   "outputs": [],
   "source": [
    "X_train, X_test, Y_train, Y_test = train_test_split(x_res, y_res, test_size=0.1, random_state=0)"
   ]
  },
  {
   "cell_type": "code",
   "execution_count": 12,
   "metadata": {},
   "outputs": [],
   "source": [
    "imputeDF_train = spark.createDataFrame(\n",
    "    X_train[['gender', 'age', 'diabetes', 'hypertension', 'heart disease', 'smoking history', 'BMI']]\n",
    "    .combine_first(Y_train[['stroke']]))"
   ]
  },
  {
   "cell_type": "code",
   "execution_count": 13,
   "metadata": {},
   "outputs": [],
   "source": [
    "imputeDF_test = spark.createDataFrame(\n",
    "    X_test[['gender', 'age', 'diabetes', 'hypertension', 'heart disease', 'smoking history', 'BMI']]\n",
    "    .combine_first(Y_test[['stroke']]))"
   ]
  },
  {
   "cell_type": "code",
   "execution_count": 14,
   "metadata": {},
   "outputs": [
    {
     "data": {
      "text/plain": [
       "([<matplotlib.axis.XTick at 0x7f811333fda0>,\n",
       "  <matplotlib.axis.XTick at 0x7f8113332320>],\n",
       " <a list of 2 Text xticklabel objects>)"
      ]
     },
     "execution_count": 14,
     "metadata": {},
     "output_type": "execute_result"
    },
    {
     "data": {
      "image/png": "[encoded data removed]",
      "text/plain": [
       "<Figure size 432x288 with 1 Axes>"
      ]
     },
     "metadata": {
      "needs_background": "light"
     },
     "output_type": "display_data"
    }
   ],
   "source": [
    "responses = imputeDF_train.groupBy('stroke').count().collect()\n",
    "categories = [i[0] for i in responses]\n",
    "counts = [i[1] for i in responses]\n",
    "\n",
    "ind = np.array(range(len(categories)))\n",
    "width = 0.35\n",
    "plt.bar(ind, counts, width=width, color='r')\n",
    "\n",
    "plt.ylabel('counts')\n",
    "plt.title('Stroke')\n",
    "plt.xticks(ind + width/2., categories)"
   ]
  },
  {
   "cell_type": "markdown",
   "metadata": {},
   "source": [
    "Теперь классы сбалансированны."
   ]
  },
  {
   "cell_type": "code",
   "execution_count": 15,
   "metadata": {},
   "outputs": [
    {
     "name": "stdout",
     "output_type": "stream",
     "text": [
      "+------------------+------------------+--------+------+-------------+------------+--------------------+------+\n",
      "|               BMI|               age|diabetes|gender|heart disease|hypertension|     smoking history|stroke|\n",
      "+------------------+------------------+--------+------+-------------+------------+--------------------+------+\n",
      "|              22.9|              60.0|       0|     0|            0|           0|                0.25|   0.0|\n",
      "|             29.95|              52.0|       0|     0|            0|           0|                0.75|   0.0|\n",
      "|             26.62|              70.0|       0|     0|            0|           1|                 0.0|   0.0|\n",
      "|             32.07|              40.0|       0|     1|            0|           0|                 0.0|   0.0|\n",
      "|              28.1|              78.0|       0|     1|            1|           0|                 1.0|   1.0|\n",
      "|27.730959825481737|23.833973216987825|       0|     0|            0|           0|                 0.0|   1.0|\n",
      "|             41.16|              49.0|       0|     0|            1|           0|                 1.0|   0.0|\n",
      "|              25.2|              68.0|       0|     0|            0|           0|                 0.0|   0.0|\n",
      "|33.006383481233726|  69.6376859577221|       0|     0|            0|           0|  0.6594214894305261|   1.0|\n",
      "|              27.6|              80.0|       0|     1|            1|           0|                 0.0|   0.0|\n",
      "|             28.39|              38.0|       0|     0|            0|           0|                 1.0|   0.0|\n",
      "|             18.62|              10.0|       0|     0|            0|           0|                 0.0|   0.0|\n",
      "|             16.45|              11.0|       0|     0|            0|           0|                 0.0|   0.0|\n",
      "|              30.1|              68.0|       0|     0|            0|           0|0.026895348739390007|   1.0|\n",
      "|20.213224403296724| 68.96935366941393|       0|     0|            0|           0|  0.9923384173534843|   1.0|\n",
      "|             23.62|              18.0|       0|     0|            0|           0|                 0.0|   0.0|\n",
      "|              30.1|              70.0|       0|     0|            0|           0|                 0.0|   1.0|\n",
      "| 29.71343145756403|              72.0|       0|     0|            0|           0|                 0.0|   1.0|\n",
      "|30.930678925568788|  60.1169259790852|       0|     1|            0|           0|                 1.0|   1.0|\n",
      "|             24.74|              66.0|       0|     1|            0|           0|                 0.5|   0.0|\n",
      "+------------------+------------------+--------+------+-------------+------------+--------------------+------+\n",
      "only showing top 20 rows\n",
      "\n"
     ]
    }
   ],
   "source": [
    "imputeDF_train.show()"
   ]
  },
  {
   "cell_type": "markdown",
   "metadata": {},
   "source": [
    "## Spark ML Pipeline"
   ]
  },
  {
   "cell_type": "code",
   "execution_count": 16,
   "metadata": {},
   "outputs": [],
   "source": [
    "binarizer = Binarizer(threshold=0.0, inputCol=\"stroke\", outputCol=\"label\")"
   ]
  },
  {
   "cell_type": "code",
   "execution_count": 17,
   "metadata": {},
   "outputs": [],
   "source": [
    "featureColumns = ['gender', 'age', 'diabetes', 'hypertension',\n",
    " 'heart disease', 'smoking history', 'BMI']"
   ]
  },
  {
   "cell_type": "code",
   "execution_count": 18,
   "metadata": {},
   "outputs": [],
   "source": [
    "assembler = VectorAssembler(inputCols = featureColumns, outputCol = \"features\")"
   ]
  },
  {
   "cell_type": "code",
   "execution_count": 19,
   "metadata": {},
   "outputs": [],
   "source": [
    "dt = DecisionTreeClassifier(labelCol=\"label\", featuresCol=\"features\", maxDepth=25, minInstancesPerNode=30, impurity=\"gini\")\n",
    "pipeline = Pipeline(stages=[binarizer, assembler, dt])\n",
    "model = pipeline.fit(imputeDF_train)"
   ]
  },
  {
   "cell_type": "markdown",
   "metadata": {},
   "source": [
    "## Оценка модели"
   ]
  },
  {
   "cell_type": "code",
   "execution_count": 20,
   "metadata": {},
   "outputs": [],
   "source": [
    "predictions = model.transform(imputeDF_test)"
   ]
  },
  {
   "cell_type": "code",
   "execution_count": 21,
   "metadata": {},
   "outputs": [
    {
     "name": "stdout",
     "output_type": "stream",
     "text": [
      "Test Data Aread under ROC score is :  0.9639140761552754\n"
     ]
    }
   ],
   "source": [
    "from pyspark.mllib.evaluation import BinaryClassificationMetrics as metric\n",
    "results = predictions.select(['probability', 'label'])\n",
    " \n",
    "## prepare score-label set\n",
    "results_collect = results.collect()\n",
    "results_list = [(float(i[0][0]), 1.0-float(i[1])) for i in results_collect]\n",
    "scoreAndLabels = sc.parallelize(results_list)\n",
    " \n",
    "metrics = metric(scoreAndLabels)\n",
    "print(\"Test Data Aread under ROC score is : \", metrics.areaUnderROC)"
   ]
  },
  {
   "cell_type": "code",
   "execution_count": 22,
   "metadata": {
    "scrolled": false
   },
   "outputs": [
    {
     "data": {
      "image/png": "[encoded data removed]",
      "text/plain": [
       "<Figure size 432x288 with 1 Axes>"
      ]
     },
     "metadata": {
      "needs_background": "light"
     },
     "output_type": "display_data"
    }
   ],
   "source": [
    "from sklearn.metrics import roc_curve, auc\n",
    " \n",
    "fpr = dict()\n",
    "tpr = dict()\n",
    "roc_auc = dict()\n",
    " \n",
    "y_test = [i[1] for i in results_list]\n",
    "y_score = [i[0] for i in results_list]\n",
    " \n",
    "fpr, tpr, _ = roc_curve(y_test, y_score)\n",
    "roc_auc = auc(fpr, tpr)\n",
    " \n",
    "%matplotlib inline\n",
    "plt.figure()\n",
    "plt.plot(fpr, tpr, label='ROC curve (area = %0.2f)' % roc_auc)\n",
    "plt.plot([0, 1], [0, 1], 'k--')\n",
    "plt.xlim([0.0, 1.0])\n",
    "plt.ylim([0.0, 1.05])\n",
    "plt.xlabel('False Positive Rate')\n",
    "plt.ylabel('True Positive Rate')\n",
    "plt.title('Receiver operating characteristic Graph')\n",
    "plt.legend(loc=\"lower right\")\n",
    "plt.show()"
   ]
  },
  {
   "cell_type": "code",
   "execution_count": 23,
   "metadata": {},
   "outputs": [
    {
     "name": "stdout",
     "output_type": "stream",
     "text": [
      "+-----+----+--------+------+-------------+------------+---------------+------+\n",
      "|  BMI| age|diabetes|gender|heart disease|hypertension|smoking history|stroke|\n",
      "+-----+----+--------+------+-------------+------------+---------------+------+\n",
      "| 22.9|60.0|       0|     0|            0|           0|           0.25|   0.0|\n",
      "|29.95|52.0|       0|     0|            0|           0|           0.75|   0.0|\n",
      "|26.62|70.0|       0|     0|            0|           1|            0.0|   0.0|\n",
      "|32.07|40.0|       0|     1|            0|           0|            0.0|   0.0|\n",
      "| 28.1|78.0|       0|     1|            1|           0|            1.0|   1.0|\n",
      "+-----+----+--------+------+-------------+------------+---------------+------+\n",
      "only showing top 5 rows\n",
      "\n"
     ]
    }
   ],
   "source": [
    "imputeDF_train.show(5)"
   ]
  },
  {
   "cell_type": "markdown",
   "metadata": {},
   "source": [
    "## Сохранение PMML-файла модели"
   ]
  },
  {
   "cell_type": "code",
   "execution_count": 24,
   "metadata": {},
   "outputs": [],
   "source": [
    "from pyspark.ml.feature import RFormula\n",
    "formula = RFormula(formula = \"stroke ~ .\")\n",
    "classifier = DecisionTreeClassifier(maxDepth=25, minInstancesPerNode=30, impurity=\"gini\")\n",
    "pipeline = Pipeline(stages = [formula, classifier])\n",
    "pipelineModel = pipeline.fit(imputeDF_train)"
   ]
  },
  {
   "cell_type": "code",
   "execution_count": 25,
   "metadata": {},
   "outputs": [
    {
     "data": {
      "text/plain": [
       "'/media/sf_share/spark-learning/dt-stroke2.pmml'"
      ]
     },
     "execution_count": 25,
     "metadata": {},
     "output_type": "execute_result"
    }
   ],
   "source": [
    "from pyspark2pmml import PMMLBuilder\n",
    "pmmlBuilder = PMMLBuilder(sc, imputeDF_train, pipelineModel).putOption(classifier, \"compact\", True)\n",
    "pmmlBuilder.buildFile(\"dt-stroke2.pmml\")"
   ]
  }
 ],
 "metadata": {
  "kernelspec": {
   "display_name": "Python 3",
   "language": "python",
   "name": "python3"
  },
  "language_info": {
   "codemirror_mode": {
    "name": "ipython",
    "version": 3
   },
   "file_extension": ".py",
   "mimetype": "text/x-python",
   "name": "python",
   "nbconvert_exporter": "python",
   "pygments_lexer": "ipython3",
   "version": "3.7.3"
  }
 },
 "nbformat": 4,
 "nbformat_minor": 2
}
